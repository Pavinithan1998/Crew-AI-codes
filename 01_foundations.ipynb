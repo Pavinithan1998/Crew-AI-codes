{
 "cells": [
  {
   "cell_type": "markdown",
   "metadata": {},
   "source": [
    "# Create Agents to Research and Write an Article\n",
    "In this lesson, you will be introduced to the foundational concepts of multi-agent systems and get an overview of the crewAI framework."
   ]
  },
  {
   "cell_type": "code",
   "execution_count": 1,
   "metadata": {},
   "outputs": [
    {
     "name": "stderr",
     "output_type": "stream",
     "text": [
      "ERROR: Ignored the following versions that require a different python version: 0.14.0 Requires-Python >=3.10,<=3.13; 0.14.0rc0 Requires-Python >=3.10,<3.12; 0.14.0rc1 Requires-Python >=3.10,<=3.13; 0.14.1 Requires-Python >=3.10,<=3.13; 0.14.3 Requires-Python >=3.10,<=3.13; 0.14.4 Requires-Python >=3.10,<=3.13; 0.16.0 Requires-Python >=3.10,<=3.13; 0.16.1 Requires-Python >=3.10,<=3.13; 0.16.2 Requires-Python >=3.10,<=3.13; 0.16.3 Requires-Python >=3.10,<=3.13; 0.17.0 Requires-Python >=3.10,<=3.13; 0.17.0rc0 Requires-Python >=3.10,<=3.13; 0.17.0rc1 Requires-Python >=3.10,<=3.13; 0.17.0rc2 Requires-Python >=3.10,<=3.13; 0.19.0 Requires-Python >=3.10,<=3.13; 0.22.0 Requires-Python >=3.10,<=3.13; 0.22.2 Requires-Python >=3.10,<=3.13; 0.22.3 Requires-Python >=3.10,<=3.13; 0.22.4 Requires-Python >=3.10,<=3.13; 0.22.5 Requires-Python >=3.10,<=3.13; 0.27.0 Requires-Python <=3.13,>=3.10; 0.27.0rc0 Requires-Python <=3.13,>=3.10; 0.27.0rc1 Requires-Python <=3.13,>=3.10; 0.27.0rc2 Requires-Python <=3.13,>=3.10; 0.27.0rc3 Requires-Python <=3.13,>=3.10; 0.27.1 Requires-Python <=3.13,>=3.10; 0.27.2 Requires-Python <=3.13,>=3.10; 0.28.0 Requires-Python <=3.13,>=3.10; 0.28.1 Requires-Python <=3.13,>=3.10; 0.28.2 Requires-Python <=3.13,>=3.10; 0.28.3 Requires-Python <=3.13,>=3.10; 0.28.4 Requires-Python <=3.13,>=3.10; 0.28.5 Requires-Python <=3.13,>=3.10; 0.28.6 Requires-Python <=3.13,>=3.10; 0.28.7 Requires-Python <=3.13,>=3.10; 0.28.8 Requires-Python <=3.13,>=3.10; 0.28.9rc1 Requires-Python <=3.13,>=3.10; 0.28.9rc2 Requires-Python <=3.13,>=3.10; 0.30.0 Requires-Python <=3.13,>=3.10; 0.30.0rc1 Requires-Python <=3.13,>=3.10; 0.30.0rc2 Requires-Python <=3.13,>=3.10; 0.30.0rc3 Requires-Python <=3.13,>=3.10; 0.30.0rc4 Requires-Python <=3.13,>=3.10; 0.30.0rc5 Requires-Python <=3.13,>=3.10; 0.30.0rc6 Requires-Python <=3.13,>=3.10; 0.30.0rc7 Requires-Python <=3.13,>=3.10; 0.30.10 Requires-Python <=3.13,>=3.10; 0.30.11 Requires-Python <=3.13,>=3.10; 0.30.4 Requires-Python <=3.13,>=3.10; 0.30.5 Requires-Python <=3.13,>=3.10; 0.30.8 Requires-Python <=3.13,>=3.10; 0.32.0 Requires-Python <=3.13,>=3.10; 0.32.1 Requires-Python <=3.13,>=3.10; 0.32.2 Requires-Python <=3.13,>=3.10; 0.35.0 Requires-Python <=3.13,>=3.10; 0.35.3 Requires-Python <=3.13,>=3.10; 0.35.4 Requires-Python <=3.13,>=3.10; 0.35.5 Requires-Python <=3.13,>=3.10; 0.35.6 Requires-Python <=3.13,>=3.10; 0.35.7 Requires-Python <=3.13,>=3.10; 0.35.8 Requires-Python <=3.13,>=3.10; 0.36.0 Requires-Python <=3.13,>=3.10; 0.36.1 Requires-Python <=3.13,>=3.10; 0.41.0 Requires-Python <=3.13,>=3.10; 0.41.1 Requires-Python <=3.13,>=3.10; 0.51.0 Requires-Python <=3.13,>=3.10; 0.51.1 Requires-Python <=3.13,>=3.10; 0.55.0 Requires-Python <=3.13,>=3.10; 0.55.1 Requires-Python <=3.13,>=3.10; 0.55.2 Requires-Python <=3.13,>=3.10; 0.60.0 Requires-Python <=3.13,>=3.10; 0.61.0 Requires-Python <=3.13,>=3.10; 0.63.0 Requires-Python <=3.13,>=3.10; 0.63.1 Requires-Python <=3.13,>=3.10; 0.63.2 Requires-Python <=3.13,>=3.10; 0.63.5 Requires-Python <=3.13,>=3.10; 0.63.6 Requires-Python <=3.13,>=3.10; 0.64.0 Requires-Python <=3.13,>=3.10; 0.65.0 Requires-Python <=3.13,>=3.10; 0.65.1 Requires-Python <=3.13,>=3.10; 0.65.2 Requires-Python <=3.13,>=3.10; 0.66.0 Requires-Python <=3.13,>=3.10; 0.67.0 Requires-Python <=3.13,>=3.10; 0.67.1 Requires-Python <=3.13,>=3.10; 0.70.0 Requires-Python <=3.13,>=3.10; 0.70.1 Requires-Python <=3.13,>=3.10; 0.74.0 Requires-Python <=3.13,>=3.10; 0.74.1 Requires-Python <=3.13,>=3.10; 0.74.2 Requires-Python <=3.13,>=3.10; 0.75.0 Requires-Python <=3.13,>=3.10; 0.75.1 Requires-Python <=3.13,>=3.10; 0.76.0 Requires-Python <=3.13,>=3.10; 0.76.1 Requires-Python <=3.13,>=3.10; 0.76.2 Requires-Python <=3.13,>=3.10; 0.76.9 Requires-Python <=3.13,>=3.10; 0.79.0 Requires-Python <=3.13,>=3.10; 0.79.1 Requires-Python <=3.13,>=3.10; 0.79.2 Requires-Python <=3.13,>=3.10; 0.79.3 Requires-Python <=3.13,>=3.10; 0.79.4 Requires-Python <=3.13,>=3.10; 0.80.0 Requires-Python <=3.13,>=3.10; 0.83.0 Requires-Python <=3.13,>=3.10; 0.85.0 Requires-Python <=3.13,>=3.10; 0.86.0 Requires-Python <=3.13,>=3.10\n",
      "ERROR: Could not find a version that satisfies the requirement crewai==0.28.8 (from versions: 0.1.0, 0.1.1, 0.1.2, 0.1.3, 0.1.5, 0.1.6, 0.1.7, 0.1.14, 0.1.15, 0.1.16, 0.1.17, 0.1.23, 0.1.24, 0.1.32, 0.5.0, 0.5.2, 0.5.3, 0.5.5, 0.10.0, 0.11.0, 0.11.1, 0.11.2)\n",
      "ERROR: No matching distribution found for crewai==0.28.8\n"
     ]
    }
   ],
   "source": [
    "# !pip install crewai==0.28.8 crewai_tools==0.1.6 langchain_community==0.0.29"
   ]
  },
  {
   "cell_type": "code",
   "execution_count": 1,
   "metadata": {},
   "outputs": [],
   "source": [
    "# Warning control\n",
    "import warnings\n",
    "warnings.filterwarnings('ignore')"
   ]
  },
  {
   "cell_type": "code",
   "execution_count": 2,
   "metadata": {},
   "outputs": [],
   "source": [
    "from crewai import Agent, Task, Crew"
   ]
  },
  {
   "cell_type": "code",
   "execution_count": 8,
   "metadata": {},
   "outputs": [],
   "source": [
    "import os\n",
    "from dotenv import load_dotenv\n",
    "# from utils import get_openai_api_key, pretty_print_result\n",
    "# from utils import get_serper_api_key\n",
    "\n",
    "# Load the environment variables\n",
    "load_dotenv()\n",
    "os.environ['OPENAI_API_KEY'] = os.getenv('OPENAI_API_KEY')\n",
    "os.environ['SERPER_API_KEY'] = os.getenv('SERPER_API_KEY')\n",
    "os.environ[\"OPENAI_MODEL_NAME\"] = 'gpt-3.5-turbo'"
   ]
  },
  {
   "cell_type": "markdown",
   "metadata": {},
   "source": [
    "## Creating Agents\n",
    "* Define your Agents, and provide them a role, goal and backstory.\n",
    "* It has been seen that LLMs perform better when they are role playing.\n",
    "\n",
    "#### Agent: Planner\n",
    "Note: The benefit of using multiple strings :\n",
    "\n",
    "varname = \"line 1 of text\"\n",
    "          \"line 2 of text\"\n",
    "versus the triple quote docstring:\n",
    "\n",
    "varname = \"\"\"line 1 of text\n",
    "             line 2 of text\n",
    "          \"\"\"\n",
    "is that it can avoid adding those whitespaces and newline characters, making it better formatted to be passed to the LLM."
   ]
  },
  {
   "cell_type": "code",
   "execution_count": 9,
   "metadata": {},
   "outputs": [
    {
     "name": "stdout",
     "output_type": "stream",
     "text": [
      "LLM value is None\n"
     ]
    }
   ],
   "source": [
    "planner = Agent(\n",
    "    role=\"Content Planner\",\n",
    "    goal=\"Plan engaging and factually accurate content on {topic}\",\n",
    "    backstory=\"You're working on planning a blog article \"\n",
    "              \"about the topic: {topic}.\"\n",
    "              \"You collect information that helps the \"\n",
    "              \"audience learn something \"\n",
    "              \"and make informed decisions. \"\n",
    "              \"Your work is the basis for \"\n",
    "              \"the Content Writer to write an article on this topic.\",\n",
    "    allow_delegation=False,\n",
    "\tverbose=True\n",
    ")"
   ]
  },
  {
   "cell_type": "markdown",
   "metadata": {},
   "source": [
    "#### Agent: Writer"
   ]
  },
  {
   "cell_type": "code",
   "execution_count": 10,
   "metadata": {},
   "outputs": [
    {
     "name": "stdout",
     "output_type": "stream",
     "text": [
      "LLM value is None\n"
     ]
    }
   ],
   "source": [
    "writer = Agent(\n",
    "    role=\"Content Writer\",\n",
    "    goal=\"Write insightful and factually accurate \"\n",
    "         \"opinion piece about the topic: {topic}\",\n",
    "    backstory=\"You're working on a writing \"\n",
    "              \"a new opinion piece about the topic: {topic}. \"\n",
    "              \"You base your writing on the work of \"\n",
    "              \"the Content Planner, who provides an outline \"\n",
    "              \"and relevant context about the topic. \"\n",
    "              \"You follow the main objectives and \"\n",
    "              \"direction of the outline, \"\n",
    "              \"as provide by the Content Planner. \"\n",
    "              \"You also provide objective and impartial insights \"\n",
    "              \"and back them up with information \"\n",
    "              \"provide by the Content Planner. \"\n",
    "              \"You acknowledge in your opinion piece \"\n",
    "              \"when your statements are opinions \"\n",
    "              \"as opposed to objective statements.\",\n",
    "    allow_delegation=False,\n",
    "    verbose=True\n",
    ")"
   ]
  },
  {
   "cell_type": "markdown",
   "metadata": {},
   "source": [
    "#### Agent: Editor"
   ]
  },
  {
   "cell_type": "code",
   "execution_count": 11,
   "metadata": {},
   "outputs": [
    {
     "name": "stdout",
     "output_type": "stream",
     "text": [
      "LLM value is None\n"
     ]
    }
   ],
   "source": [
    "editor = Agent(\n",
    "    role=\"Editor\",\n",
    "    goal=\"Edit a given blog post to align with \"\n",
    "         \"the writing style of the organization. \",\n",
    "    backstory=\"You are an editor who receives a blog post \"\n",
    "              \"from the Content Writer. \"\n",
    "              \"Your goal is to review the blog post \"\n",
    "              \"to ensure that it follows journalistic best practices,\"\n",
    "              \"provides balanced viewpoints \"\n",
    "              \"when providing opinions or assertions, \"\n",
    "              \"and also avoids major controversial topics \"\n",
    "              \"or opinions when possible.\",\n",
    "    allow_delegation=False,\n",
    "    verbose=True\n",
    ")"
   ]
  },
  {
   "cell_type": "markdown",
   "metadata": {},
   "source": [
    "## Creating Tasks\n",
    "Define your Tasks, and provide them a description, expected_output and agent.\n",
    "#### Task: Plan"
   ]
  },
  {
   "cell_type": "code",
   "execution_count": 12,
   "metadata": {},
   "outputs": [],
   "source": [
    "plan = Task(\n",
    "    description=(\n",
    "        \"1. Prioritize the latest trends, key players, \"\n",
    "            \"and noteworthy news on {topic}.\\n\"\n",
    "        \"2. Identify the target audience, considering \"\n",
    "            \"their interests and pain points.\\n\"\n",
    "        \"3. Develop a detailed content outline including \"\n",
    "            \"an introduction, key points, and a call to action.\\n\"\n",
    "        \"4. Include SEO keywords and relevant data or sources.\"\n",
    "    ),\n",
    "    expected_output=\"A comprehensive content plan document \"\n",
    "        \"with an outline, audience analysis, \"\n",
    "        \"SEO keywords, and resources.\",\n",
    "    agent=planner,\n",
    ")"
   ]
  },
  {
   "cell_type": "markdown",
   "metadata": {},
   "source": [
    "#### Task: Write"
   ]
  },
  {
   "cell_type": "code",
   "execution_count": 13,
   "metadata": {},
   "outputs": [],
   "source": [
    "write = Task(\n",
    "    description=(\n",
    "        \"1. Use the content plan to craft a compelling \"\n",
    "            \"blog post on {topic}.\\n\"\n",
    "        \"2. Incorporate SEO keywords naturally.\\n\"\n",
    "\t\t\"3. Sections/Subtitles are properly named \"\n",
    "            \"in an engaging manner.\\n\"\n",
    "        \"4. Ensure the post is structured with an \"\n",
    "            \"engaging introduction, insightful body, \"\n",
    "            \"and a summarizing conclusion.\\n\"\n",
    "        \"5. Proofread for grammatical errors and \"\n",
    "            \"alignment with the brand's voice.\\n\"\n",
    "    ),\n",
    "    expected_output=\"A well-written blog post \"\n",
    "        \"in markdown format, ready for publication, \"\n",
    "        \"each section should have 2 or 3 paragraphs.\",\n",
    "    agent=writer,\n",
    ")"
   ]
  },
  {
   "cell_type": "markdown",
   "metadata": {},
   "source": [
    "#### Task: Edit"
   ]
  },
  {
   "cell_type": "code",
   "execution_count": 14,
   "metadata": {},
   "outputs": [],
   "source": [
    "edit = Task(\n",
    "    description=(\"Proofread the given blog post for \"\n",
    "                 \"grammatical errors and \"\n",
    "                 \"alignment with the brand's voice.\"),\n",
    "    expected_output=\"A well-written blog post in markdown format, \"\n",
    "                    \"ready for publication, \"\n",
    "                    \"each section should have 2 or 3 paragraphs.\",\n",
    "    agent=editor\n",
    ")"
   ]
  },
  {
   "cell_type": "markdown",
   "metadata": {},
   "source": [
    "## Creating the Crew\n",
    "* Create your crew of Agents\n",
    "* Pass the tasks to be performed by those agents.\n",
    "> Note: For this simple example, the tasks will be performed sequentially (i.e they are dependent on each other), so the order of the task in the list matters.\n",
    "* verbose=2 allows you to see all the logs of the execution."
   ]
  },
  {
   "cell_type": "code",
   "execution_count": 16,
   "metadata": {},
   "outputs": [],
   "source": [
    "crew = Crew(\n",
    "    agents=[planner, writer, editor],\n",
    "    tasks=[plan, write, edit],\n",
    "    verbose=True\n",
    ")"
   ]
  },
  {
   "cell_type": "markdown",
   "metadata": {},
   "source": [
    "## Running the Crew\n",
    "Note: LLMs can provide different outputs for they same input, so what you get might be different than what you see in the video."
   ]
  },
  {
   "cell_type": "code",
   "execution_count": 17,
   "metadata": {},
   "outputs": [
    {
     "name": "stdout",
     "output_type": "stream",
     "text": [
      "\u001b[1m\u001b[95m# Agent:\u001b[00m \u001b[1m\u001b[92mContent Planner\u001b[00m\n",
      "\u001b[95m## Task:\u001b[00m \u001b[92m1. Prioritize the latest trends, key players, and noteworthy news on Artificial Intelligence.\n",
      "2. Identify the target audience, considering their interests and pain points.\n",
      "3. Develop a detailed content outline including an introduction, key points, and a call to action.\n",
      "4. Include SEO keywords and relevant data or sources.\u001b[00m\n",
      "\n",
      "\n",
      "\u001b[1m\u001b[95m# Agent:\u001b[00m \u001b[1m\u001b[92mContent Planner\u001b[00m\n",
      "\u001b[95m## Final Answer:\u001b[00m \u001b[92m\n",
      "Content Plan Document:\n",
      "\n",
      "Title: Unleashing the Power of Artificial Intelligence: Exploring Trends, Key Players, and Future Implications\n",
      "\n",
      "Outline:\n",
      "I. Introduction\n",
      "    A. Definition of Artificial Intelligence (AI)\n",
      "    B. Importance and applications of AI in various industries\n",
      "II. Latest Trends in AI\n",
      "    A. Machine learning advancements\n",
      "    B. Ethical considerations in AI development\n",
      "    C. Rise of AI in healthcare and finance sectors\n",
      "III. Key Players in the AI Industry\n",
      "    A. Technology giants (Google, Microsoft, etc.)\n",
      "    B. Startups making innovative contributions\n",
      "IV. Noteworthy News in AI\n",
      "    A. Recent breakthroughs in AI research\n",
      "    B. AI implementations across different sectors\n",
      "V. Target Audience Analysis\n",
      "    A. Demographics: Professionals in tech, business executives, students\n",
      "    B. Interests: Innovation, technology advancements, future trends\n",
      "    C. Pain Points: Understanding complex AI concepts, navigating ethical dilemmas in AI\n",
      "VI. SEO Keywords: Artificial Intelligence trends, AI industry insights, top AI companies, latest in machine learning\n",
      "VII. Resources\n",
      "    A. Data sources: Gartner, McKinsey, Statista\n",
      "    B. Publications: Harvard Business Review, Forbes, Wired\n",
      "\n",
      "\n",
      "This content plan aims to provide an informative and engaging blog article on Artificial Intelligence, targeting professionals, executives, and students interested in the latest trends and key players in the AI industry. By addressing the audience's pain points and interests, the article will offer valuable insights into the world of AI, backed by reputable sources and SEO optimization for better visibility.\u001b[00m\n",
      "\n",
      "\n",
      "\u001b[1m\u001b[95m# Agent:\u001b[00m \u001b[1m\u001b[92mContent Writer\u001b[00m\n",
      "\u001b[95m## Task:\u001b[00m \u001b[92m1. Use the content plan to craft a compelling blog post on Artificial Intelligence.\n",
      "2. Incorporate SEO keywords naturally.\n",
      "3. Sections/Subtitles are properly named in an engaging manner.\n",
      "4. Ensure the post is structured with an engaging introduction, insightful body, and a summarizing conclusion.\n",
      "5. Proofread for grammatical errors and alignment with the brand's voice.\n",
      "\u001b[00m\n",
      "\n",
      "\n",
      "\u001b[1m\u001b[95m# Agent:\u001b[00m \u001b[1m\u001b[92mContent Writer\u001b[00m\n",
      "\u001b[95m## Final Answer:\u001b[00m \u001b[92m\n",
      "# Unleashing the Power of Artificial Intelligence: Exploring Trends, Key Players, and Future Implications\n",
      "\n",
      "## Introduction\n",
      "Artificial Intelligence (AI) is revolutionizing industries across the globe with its ability to mimic human intelligence through the use of algorithms and data processing. From enabling personalized recommendations in e-commerce to powering autonomous vehicles, AI has become an indispensable tool in various sectors. The importance of AI lies in its capacity to analyze large amounts of data swiftly, identify patterns, and make autonomous decisions, leading to efficiency and innovation.\n",
      "\n",
      "## Latest Trends in AI\n",
      "The field of AI is constantly evolving, with machine learning advancements leading the way. Machine learning, a subset of AI, focuses on developing algorithms that allow systems to learn and improve from data without explicit programming. Ethical considerations in AI development have also come to the forefront, emphasizing the need for transparency and accountability in the deployment of AI technologies. Moreover, the healthcare and finance sectors have seen a significant rise in AI applications, from predictive analytics in patient care to algorithmic trading in financial markets.\n",
      "\n",
      "## Key Players in the AI Industry\n",
      "Tech giants like Google, Microsoft, and Amazon are at the forefront of AI research and development, investing heavily in cutting-edge technologies such as natural language processing and computer vision. Additionally, startups are making innovative contributions to the AI landscape, bringing fresh perspectives and agile solutions to complex problems. These key players collaborate and compete in a dynamic ecosystem that drives the rapid advancement of AI technologies.\n",
      "\n",
      "## Noteworthy News in AI\n",
      "Recent breakthroughs in AI research, such as the development of self-learning algorithms and generative adversarial networks, have captured the attention of both academia and industry. AI implementations are transforming sectors ranging from education to cybersecurity, offering new possibilities for automation and optimization. The continuous progress in AI promises to reshape the way we live and work, creating opportunities for enhanced productivity and problem-solving.\n",
      "\n",
      "## Target Audience Analysis\n",
      "Professionals in the tech industry, business executives seeking innovation, and students interested in future trends form the primary audience for this exploration of AI. Their shared interests in technology advancements and understanding complex AI concepts drive the need for comprehensive insights into the latest trends and key players in the AI industry. By addressing their pain points and catering to their interests, this article aims to provide valuable perspectives on the dynamic world of AI.\n",
      "\n",
      "In conclusion, as AI continues to expand its reach and capabilities, staying informed about the trends and advancements in the industry becomes crucial for professionals and enthusiasts alike. By delving into the latest developments, key players, and future implications of AI, we can better grasp the transformative potential of this powerful technology. Embracing the opportunities AI presents, while navigating ethical considerations, will be essential in leveraging its full potential for the benefit of society.\u001b[00m\n",
      "\n",
      "\n",
      "\u001b[1m\u001b[95m# Agent:\u001b[00m \u001b[1m\u001b[92mEditor\u001b[00m\n",
      "\u001b[95m## Task:\u001b[00m \u001b[92mProofread the given blog post for grammatical errors and alignment with the brand's voice.\u001b[00m\n",
      "\n",
      "\n",
      "\u001b[1m\u001b[95m# Agent:\u001b[00m \u001b[1m\u001b[92mEditor\u001b[00m\n",
      "\u001b[95m## Final Answer:\u001b[00m \u001b[92m\n",
      "# Unleashing the Power of Artificial Intelligence: Exploring Trends, Key Players, and Future Implications\n",
      "\n",
      "## Introduction\n",
      "Artificial Intelligence (AI) is reshaping industries worldwide by emulating human intelligence through algorithms and data processing. Its applications range from personalized recommendations in e-commerce to driving autonomous vehicles, demonstrating its significance across diverse sectors. The ability of AI to swiftly analyze vast data sets, identify patterns, and make autonomous decisions is driving efficiency and fostering innovation.\n",
      "\n",
      "## Latest Trends in AI\n",
      "The landscape of AI is continuously evolving, predominantly led by advancements in machine learning. Machine learning, a subset of AI, revolves around creating algorithms that enable systems to learn and enhance performance without explicit programming. The ethical dimensions of AI development are gaining prominence, underscoring the importance of transparency and accountability in the utilization of AI technologies. Notably, the healthcare and finance industries are experiencing a surge in AI applications, from predictive analytics in patient care to algorithmic trading in financial markets.\n",
      "\n",
      "## Key Players in the AI Industry\n",
      "Major players in the tech sphere such as Google, Microsoft, and Amazon are spearheading AI research and development, channeling substantial investments into cutting-edge technologies like natural language processing and computer vision. Moreover, startups are injecting innovation into the AI domain, offering novel perspectives and agile solutions to intricate problems. This collaboration and competition among key players create a dynamic environment propelling the rapid evolution of AI technologies.\n",
      "\n",
      "## Noteworthy News in AI\n",
      "Recent milestones in AI research, including the advancement of self-learning algorithms and generative adversarial networks, are garnering attention from academia and industry alike. AI integrations are revolutionizing sectors spanning education to cybersecurity, unlocking fresh avenues for automation and optimization. The continuous advancement in AI holds the promise of reshaping our lifestyles and work dynamics, unlocking opportunities for heightened productivity and effective solutions.\n",
      "\n",
      "## Target Audience Analysis\n",
      "This exploration of AI primarily caters to professionals in the tech sector, business executives seeking innovation, and students intrigued by future trends. Their mutual interest in technological progress and deciphering intricate AI concepts underscores the necessity for comprehensive insights into the prevailing trends and major players in the AI realm. By addressing their concerns and aligning with their interests, this article strives to provide valuable perspectives into the dynamic realm of AI.\n",
      "\n",
      "In conclusion, as AI broadens its horizons and capabilities, staying abreast of industry trends and advancements becomes imperative for professionals and enthusiasts alike. By delving into the latest developments, prominent entities, and future ramifications of AI, we can better comprehend the transformative potential of this potent technology. Embracing the opportunities presented by AI, while navigating ethical considerations, will be pivotal in harnessing its full potential for societal betterment.\u001b[00m\n",
      "\n",
      "\n"
     ]
    }
   ],
   "source": [
    "result = crew.kickoff(inputs={\"topic\": \"Artificial Intelligence\"})"
   ]
  },
  {
   "cell_type": "code",
   "execution_count": 20,
   "metadata": {},
   "outputs": [
    {
     "name": "stdout",
     "output_type": "stream",
     "text": [
      "# Unleashing the Power of Artificial Intelligence: Exploring Trends, Key Players, and Future Implications\n",
      "\n",
      "## Introduction\n",
      "Artificial Intelligence (AI) is reshaping industries worldwide by emulating human intelligence through algorithms and data processing. Its applications range from personalized recommendations in e-commerce to driving autonomous vehicles, demonstrating its significance across diverse sectors. The ability of AI to swiftly analyze vast data sets, identify patterns, and make autonomous decisions is driving efficiency and fostering innovation.\n",
      "\n",
      "## Latest Trends in AI\n",
      "The landscape of AI is continuously evolving, predominantly led by advancements in machine learning. Machine learning, a subset of AI, revolves around creating algorithms that enable systems to learn and enhance performance without explicit programming. The ethical dimensions of AI development are gaining prominence, underscoring the importance of transparency and accountability in the utilization of AI technologies. Notably, the healthcare and finance industries are experiencing a surge in AI applications, from predictive analytics in patient care to algorithmic trading in financial markets.\n",
      "\n",
      "## Key Players in the AI Industry\n",
      "Major players in the tech sphere such as Google, Microsoft, and Amazon are spearheading AI research and development, channeling substantial investments into cutting-edge technologies like natural language processing and computer vision. Moreover, startups are injecting innovation into the AI domain, offering novel perspectives and agile solutions to intricate problems. This collaboration and competition among key players create a dynamic environment propelling the rapid evolution of AI technologies.\n",
      "\n",
      "## Noteworthy News in AI\n",
      "Recent milestones in AI research, including the advancement of self-learning algorithms and generative adversarial networks, are garnering attention from academia and industry alike. AI integrations are revolutionizing sectors spanning education to cybersecurity, unlocking fresh avenues for automation and optimization. The continuous advancement in AI holds the promise of reshaping our lifestyles and work dynamics, unlocking opportunities for heightened productivity and effective solutions.\n",
      "\n",
      "## Target Audience Analysis\n",
      "This exploration of AI primarily caters to professionals in the tech sector, business executives seeking innovation, and students intrigued by future trends. Their mutual interest in technological progress and deciphering intricate AI concepts underscores the necessity for comprehensive insights into the prevailing trends and major players in the AI realm. By addressing their concerns and aligning with their interests, this article strives to provide valuable perspectives into the dynamic realm of AI.\n",
      "\n",
      "In conclusion, as AI broadens its horizons and capabilities, staying abreast of industry trends and advancements becomes imperative for professionals and enthusiasts alike. By delving into the latest developments, prominent entities, and future ramifications of AI, we can better comprehend the transformative potential of this potent technology. Embracing the opportunities presented by AI, while navigating ethical considerations, will be pivotal in harnessing its full potential for societal betterment.\n"
     ]
    }
   ],
   "source": [
    "print(result)"
   ]
  },
  {
   "cell_type": "code",
   "execution_count": 22,
   "metadata": {},
   "outputs": [
    {
     "data": {
      "text/markdown": [
       "# Unleashing the Power of Artificial Intelligence: Exploring Trends, Key Players, and Future Implications\n",
       "\n",
       "## Introduction\n",
       "Artificial Intelligence (AI) is reshaping industries worldwide by emulating human intelligence through algorithms and data processing. Its applications range from personalized recommendations in e-commerce to driving autonomous vehicles, demonstrating its significance across diverse sectors. The ability of AI to swiftly analyze vast data sets, identify patterns, and make autonomous decisions is driving efficiency and fostering innovation.\n",
       "\n",
       "## Latest Trends in AI\n",
       "The landscape of AI is continuously evolving, predominantly led by advancements in machine learning. Machine learning, a subset of AI, revolves around creating algorithms that enable systems to learn and enhance performance without explicit programming. The ethical dimensions of AI development are gaining prominence, underscoring the importance of transparency and accountability in the utilization of AI technologies. Notably, the healthcare and finance industries are experiencing a surge in AI applications, from predictive analytics in patient care to algorithmic trading in financial markets.\n",
       "\n",
       "## Key Players in the AI Industry\n",
       "Major players in the tech sphere such as Google, Microsoft, and Amazon are spearheading AI research and development, channeling substantial investments into cutting-edge technologies like natural language processing and computer vision. Moreover, startups are injecting innovation into the AI domain, offering novel perspectives and agile solutions to intricate problems. This collaboration and competition among key players create a dynamic environment propelling the rapid evolution of AI technologies.\n",
       "\n",
       "## Noteworthy News in AI\n",
       "Recent milestones in AI research, including the advancement of self-learning algorithms and generative adversarial networks, are garnering attention from academia and industry alike. AI integrations are revolutionizing sectors spanning education to cybersecurity, unlocking fresh avenues for automation and optimization. The continuous advancement in AI holds the promise of reshaping our lifestyles and work dynamics, unlocking opportunities for heightened productivity and effective solutions.\n",
       "\n",
       "## Target Audience Analysis\n",
       "This exploration of AI primarily caters to professionals in the tech sector, business executives seeking innovation, and students intrigued by future trends. Their mutual interest in technological progress and deciphering intricate AI concepts underscores the necessity for comprehensive insights into the prevailing trends and major players in the AI realm. By addressing their concerns and aligning with their interests, this article strives to provide valuable perspectives into the dynamic realm of AI.\n",
       "\n",
       "In conclusion, as AI broadens its horizons and capabilities, staying abreast of industry trends and advancements becomes imperative for professionals and enthusiasts alike. By delving into the latest developments, prominent entities, and future ramifications of AI, we can better comprehend the transformative potential of this potent technology. Embracing the opportunities presented by AI, while navigating ethical considerations, will be pivotal in harnessing its full potential for societal betterment."
      ],
      "text/plain": [
       "<IPython.core.display.Markdown object>"
      ]
     },
     "execution_count": 22,
     "metadata": {},
     "output_type": "execute_result"
    }
   ],
   "source": [
    "from IPython.display import Markdown\n",
    "Markdown(result.raw)"
   ]
  },
  {
   "cell_type": "code",
   "execution_count": null,
   "metadata": {},
   "outputs": [],
   "source": [
    "topic = \"YOUR TOPIC HERE\"\n",
    "result = crew.kickoff(inputs={\"topic\": topic})"
   ]
  },
  {
   "cell_type": "code",
   "execution_count": null,
   "metadata": {},
   "outputs": [],
   "source": [
    "Markdown(result)"
   ]
  },
  {
   "cell_type": "markdown",
   "metadata": {},
   "source": [
    "## Other Popular Models as LLM for your Agents¶"
   ]
  },
  {
   "cell_type": "code",
   "execution_count": null,
   "metadata": {},
   "outputs": [],
   "source": [
    "# Hugging Face (HuggingFaceHub endpoint)\n",
    "from langchain_community.llms import HuggingFaceHub\n",
    "\n",
    "llm = HuggingFaceHub(\n",
    "    repo_id=\"HuggingFaceH4/zephyr-7b-beta\",\n",
    "    huggingfacehub_api_token=\"<HF_TOKEN_HERE>\",\n",
    "    task=\"text-generation\",\n",
    ")\n",
    "\n",
    "### you will pass \"llm\" to your agent function"
   ]
  }
 ],
 "metadata": {
  "kernelspec": {
   "display_name": "Python 3",
   "language": "python",
   "name": "python3"
  },
  "language_info": {
   "codemirror_mode": {
    "name": "ipython",
    "version": 3
   },
   "file_extension": ".py",
   "mimetype": "text/x-python",
   "name": "python",
   "nbconvert_exporter": "python",
   "pygments_lexer": "ipython3",
   "version": "3.12.3"
  }
 },
 "nbformat": 4,
 "nbformat_minor": 2
}
