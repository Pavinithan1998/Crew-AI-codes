{
 "cells": [
  {
   "cell_type": "markdown",
   "metadata": {},
   "source": [
    "L5: Automate Event Planning\n",
    "In this lesson, you will learn more about Tasks.\n",
    "\n",
    "The libraries are already installed in the classroom. If you're running this notebook on your own machine, you can install the following:\n",
    "\n",
    "!pip install crewai==0.28.8 crewai_tools==0.1.6 langchain_community==0.0.29"
   ]
  },
  {
   "cell_type": "code",
   "execution_count": 1,
   "metadata": {},
   "outputs": [],
   "source": [
    "# Warning control\n",
    "import warnings\n",
    "warnings.filterwarnings('ignore')"
   ]
  },
  {
   "cell_type": "code",
   "execution_count": 2,
   "metadata": {},
   "outputs": [],
   "source": [
    "from crewai import Agent, Crew, Task"
   ]
  },
  {
   "cell_type": "code",
   "execution_count": 3,
   "metadata": {},
   "outputs": [],
   "source": [
    "import os\n",
    "from dotenv import load_dotenv\n",
    "# from utils import get_openai_api_key, pretty_print_result\n",
    "# from utils import get_serper_api_key\n",
    "\n",
    "# Load the environment variables\n",
    "load_dotenv()\n",
    "os.environ['OPENAI_API_KEY'] = os.getenv('OPENAI_API_KEY')\n",
    "os.environ['SERPER_API_KEY'] = os.getenv('SERPER_API_KEY')\n",
    "os.environ[\"OPENAI_MODEL_NAME\"] = 'gpt-3.5-turbo'"
   ]
  },
  {
   "cell_type": "code",
   "execution_count": 4,
   "metadata": {},
   "outputs": [],
   "source": [
    "from crewai_tools import ScrapeWebsiteTool, SerperDevTool\n",
    "\n",
    "# Initialize the tools\n",
    "search_tool = SerperDevTool()\n",
    "scrape_tool = ScrapeWebsiteTool()"
   ]
  },
  {
   "cell_type": "code",
   "execution_count": 5,
   "metadata": {},
   "outputs": [
    {
     "name": "stdout",
     "output_type": "stream",
     "text": [
      "LLM value is None\n"
     ]
    }
   ],
   "source": [
    "# Agent 1: Venue Coordinator\n",
    "venue_coordinator = Agent(\n",
    "    role=\"Venue Coordinator\",\n",
    "    goal=\"Identify and book an appropriate venue \"\n",
    "    \"based on event requirements\",\n",
    "    tools=[search_tool, scrape_tool],\n",
    "    verbose=True,\n",
    "    backstory=(\n",
    "        \"With a keen sense of space and \"\n",
    "        \"understanding of event logistics, \"\n",
    "        \"you excel at finding and securing \"\n",
    "        \"the perfect venue that fits the event's theme, \"\n",
    "        \"size, and budget constraints.\"\n",
    "    )\n",
    ")"
   ]
  },
  {
   "cell_type": "code",
   "execution_count": 6,
   "metadata": {},
   "outputs": [
    {
     "name": "stdout",
     "output_type": "stream",
     "text": [
      "LLM value is None\n"
     ]
    }
   ],
   "source": [
    " # Agent 2: Logistics Manager\n",
    "logistics_manager = Agent(\n",
    "    role='Logistics Manager',\n",
    "    goal=(\n",
    "        \"Manage all logistics for the event \"\n",
    "        \"including catering and equipmen\"\n",
    "    ),\n",
    "    tools=[search_tool, scrape_tool],\n",
    "    verbose=True,\n",
    "    backstory=(\n",
    "        \"Organized and detail-oriented, \"\n",
    "        \"you ensure that every logistical aspect of the event \"\n",
    "        \"from catering to equipment setup \"\n",
    "        \"is flawlessly executed to create a seamless experience.\"\n",
    "    )\n",
    ")"
   ]
  },
  {
   "cell_type": "code",
   "execution_count": 7,
   "metadata": {},
   "outputs": [
    {
     "name": "stdout",
     "output_type": "stream",
     "text": [
      "LLM value is None\n"
     ]
    }
   ],
   "source": [
    "# Agent 3: Marketing and Communications Agent\n",
    "marketing_communications_agent = Agent(\n",
    "    role=\"Marketing and Communications Agent\",\n",
    "    goal=\"Effectively market the event and \"\n",
    "         \"communicate with participants\",\n",
    "    tools=[search_tool, scrape_tool],\n",
    "    verbose=True,\n",
    "    backstory=(\n",
    "        \"Creative and communicative, \"\n",
    "        \"you craft compelling messages and \"\n",
    "        \"engage with potential attendees \"\n",
    "        \"to maximize event exposure and participation.\"\n",
    "    )\n",
    ")"
   ]
  },
  {
   "cell_type": "code",
   "execution_count": 8,
   "metadata": {},
   "outputs": [],
   "source": [
    "from pydantic import BaseModel\n",
    "# Define a Pydantic model for venue details \n",
    "# (demonstrating Output as Pydantic)\n",
    "class VenueDetails(BaseModel):\n",
    "    name: str\n",
    "    address: str\n",
    "    capacity: int\n",
    "    booking_status: str"
   ]
  },
  {
   "cell_type": "code",
   "execution_count": 9,
   "metadata": {},
   "outputs": [],
   "source": [
    "venue_task = Task(\n",
    "    description=\"Find a venue in {event_city} \"\n",
    "                \"that meets criteria for {event_topic}.\",\n",
    "    expected_output=\"All the details of a specifically chosen\"\n",
    "                    \"venue you found to accommodate the event.\",\n",
    "    human_input=True,\n",
    "    output_json=VenueDetails,\n",
    "    output_file=\"venue_details.json\",  \n",
    "      # Outputs the venue details as a JSON file\n",
    "    agent=venue_coordinator\n",
    ")"
   ]
  },
  {
   "cell_type": "code",
   "execution_count": 10,
   "metadata": {},
   "outputs": [],
   "source": [
    "logistics_task = Task(\n",
    "    description=\"Coordinate catering and \"\n",
    "                 \"equipment for an event \"\n",
    "                 \"with {expected_participants} participants \"\n",
    "                 \"on {tentative_date}.\",\n",
    "    expected_output=\"Confirmation of all logistics arrangements \"\n",
    "                    \"including catering and equipment setup.\",\n",
    "    human_input=True,\n",
    "    async_execution=True,\n",
    "    agent=logistics_manager\n",
    ")"
   ]
  },
  {
   "cell_type": "code",
   "execution_count": 18,
   "metadata": {},
   "outputs": [],
   "source": [
    "marketing_task = Task(\n",
    "    description=\"Promote the {event_topic} \"\n",
    "                \"aiming to engage at least\"\n",
    "                \"{expected_participants} potential attendees.\",\n",
    "    expected_output=\"Report on marketing activities \"\n",
    "                    \"and attendee engagement formatted as markdown.\",\n",
    "    async_execution=False,\n",
    "    output_file=\"marketing_report.md\",  # Outputs the report as a text file\n",
    "    agent=marketing_communications_agent\n",
    ")"
   ]
  },
  {
   "cell_type": "code",
   "execution_count": 19,
   "metadata": {},
   "outputs": [
    {
     "name": "stderr",
     "output_type": "stream",
     "text": [
      "2025-01-24 12:38:33,016 - 16808 - __init__.py-__init__:537 - WARNING: Overriding of current TracerProvider is not allowed\n"
     ]
    }
   ],
   "source": [
    "# Define the crew with agents and tasks\n",
    "event_management_crew = Crew(\n",
    "    agents=[venue_coordinator, \n",
    "            logistics_manager, \n",
    "            marketing_communications_agent],\n",
    "    tasks=[venue_task, \n",
    "           logistics_task, \n",
    "           marketing_task],\n",
    "    verbose=True\n",
    ")"
   ]
  },
  {
   "cell_type": "code",
   "execution_count": 20,
   "metadata": {},
   "outputs": [],
   "source": [
    "event_details = {\n",
    "    'event_topic': \"Tech Innovation Conference\",\n",
    "    'event_description': \"A gathering of tech innovators \"\n",
    "                         \"and industry leaders \"\n",
    "                         \"to explore future technologies.\",\n",
    "    'event_city': \"San Francisco\",\n",
    "    'tentative_date': \"2024-09-15\",\n",
    "    'expected_participants': 500,\n",
    "    'budget': 20000,\n",
    "    'venue_type': \"Conference Hall\"\n",
    "}"
   ]
  },
  {
   "cell_type": "code",
   "execution_count": 21,
   "metadata": {},
   "outputs": [
    {
     "name": "stdout",
     "output_type": "stream",
     "text": [
      "\u001b[1m\u001b[95m# Agent:\u001b[00m \u001b[1m\u001b[92mVenue Coordinator\u001b[00m\n",
      "\u001b[95m## Task:\u001b[00m \u001b[92mFind a venue in San Francisco that meets criteria for Tech Innovation Conference.\u001b[00m\n",
      "\n",
      "\n",
      "\u001b[1m\u001b[95m# Agent:\u001b[00m \u001b[1m\u001b[92mVenue Coordinator\u001b[00m\n",
      "\u001b[95m## Using tool:\u001b[00m \u001b[92mSearch the internet with Serper\u001b[00m\n",
      "\u001b[95m## Tool Input:\u001b[00m \u001b[92m\n",
      "\"{\\\"search_query\\\": \\\"Tech Innovation Conference venue San Francisco\\\"}\"\u001b[00m\n",
      "\u001b[95m## Tool Output:\u001b[00m \u001b[92m\n",
      "{'searchParameters': {'q': 'Tech Innovation Conference venue San Francisco', 'type': 'search', 'num': 10, 'engine': 'google'}, 'organic': [{'title': 'Tech. Innovation Conference 2035 - NICER Consortium', 'link': 'https://www.nicerconsortium.org/events/tech-innovation-conference-2035', 'snippet': 'Buy Tickets Time & Location Aug 01, 2035, 10:00 AM – 6:00 PM Conference Center, San Francisco About The Event', 'position': 1}, {'title': 'Tech. Innovation Conference 2035 - Maden-Tek', 'link': 'https://www.maden-tek.com/en/events/tech-innovation-conference-2035', 'snippet': 'Tech. Innovation Conference 2035. Time & Location. 01 Aug 2035, 10:00 – 18:00. Conference Center, 500 Terry Francois St. San Francisco, CA 94158. Tickets. Sale ...', 'position': 2}, {'title': 'Venue - World Agri-Tech Innovation Summit, San Francisco', 'link': 'https://worldagritechusa.com/venue/', 'snippet': 'SUMMIT VENUE: MARRIOTT MARQUIS · San Francisco International Airport (SFO), 14 miles away. Estimated taxi fare: 45 USD (one way) Estimated subway fare: 8.65 USD ...', 'position': 3}, {'title': 'Top 12 tech conferences in San Francisco for 2024 - TravelPerk', 'link': 'https://www.travelperk.com/blog/top-tech-conferences-in-san-francisco/', 'snippet': 'Santa Clara Convention Center, Santa Clara. With over 200 speakers, the San Francisco Tech Summit offers an action-packed agenda for inspiration ...', 'position': 4}, {'title': 'Event Details San Francisco - Tech Summit', 'link': 'https://techsummit.tech/san-francisco-tech-conference/?srsltid=AfmBOorDeTR-RJgWS_5c4mGegIs7C0GfYyKZI1i0TphUeNjjYFdla3lj', 'snippet': '150+ Speakers – Experts and Leaders in Tech. Masterclasses, Workshops, Roundtables. 2 Power-Packed Days. Professional Development. Networking and Opportunities.', 'position': 5}, {'title': 'Tech Summit Silicon Valley', 'link': 'https://techsummit.tech/san-francisco/?srsltid=AfmBOopmEauOzCKe_BXH_jyfUwuZUmi34UBVp_5SiELUc_Q2XEhQLlpu', 'snippet': 'JUNE 2024, San Francisco, CA. TECH SUMMIT SILICON VALLEY. Embark on a Tech Journey with Global Thought Leaders. Elevate Your Expertise, Cultivate ...', 'position': 6}, {'title': 'World Agri-Tech Innovation Summit, March 11-12, 2025', 'link': 'https://worldagritechusa.com/', 'snippet': 'The World Agri-Tech Innovation Summit is the stand out event with curated leaders, innovators and investors from across the AgTech landscape.', 'position': 7, 'sitelinks': [{'title': 'Venue', 'link': 'https://worldagritechusa.com/venue/'}, {'title': 'Speakers', 'link': 'https://worldagritechusa.com/speakers/'}, {'title': 'About', 'link': 'https://worldagritechusa.com/aboutus/'}, {'title': 'Register now', 'link': 'https://worldagritechusa.com/register/'}]}, {'title': 'Top Tech Companies in the Bay Area – Conference Ideas', 'link': 'https://ssfconf.com/top-tech-companies-in-the-bay-area-conference-ideas/', 'snippet': 'By leveraging the South San Francisco Conference Center, tech companies can create immersive, impactful conferences that resonate with their ...', 'position': 8}, {'title': 'The Moscone Center: A Hub Of Innovation | San Francisco Travel', 'link': 'https://www.sftravel.com/meetings/article/moscone-center-hub-innovation', 'snippet': 'The Moscone Center has hosted some of the most important conventions and product announcements in recent memory, providing the space and amenities for ...', 'position': 9}, {'title': 'Home: Future Food-Tech San Francisco, March 13-14, 2025', 'link': 'https://futurefoodtechsf.com/', 'snippet': 'Future Food-Tech San Francisco: where food brands, innovators, investors & retailers explore solutions to tackle food insecurity.', 'position': 10, 'sitelinks': [{'title': 'Agenda', 'link': 'https://futurefoodtechsf.com/agenda/'}, {'title': 'Venue', 'link': 'https://futurefoodtechsf.com/venue/'}, {'title': 'About Us', 'link': 'https://futurefoodtechsf.com/about/'}, {'title': 'Speakers', 'link': 'https://futurefoodtechsf.com/speakers/'}]}], 'credits': 1}\u001b[00m\n",
      "\n",
      "\n",
      "\u001b[1m\u001b[95m# Agent:\u001b[00m \u001b[1m\u001b[92mVenue Coordinator\u001b[00m\n",
      "\u001b[95m## Using tool:\u001b[00m \u001b[92mRead website content\u001b[00m\n",
      "\u001b[95m## Tool Input:\u001b[00m \u001b[92m\n",
      "\"{\\\"website_url\\\": \\\"https://www.maden-tek.com/en/events/tech-innovation-conference-2035\\\"}\"\u001b[00m\n",
      "\u001b[95m## Tool Output:\u001b[00m \u001b[92m\n",
      "\n",
      "Tech. Innovation Conference 2035 | Maden-Tek\n",
      "top of page Home page About us From Maden-Tek 2022... Contact Mail\n",
      "Maden-Tek 2024 – Mining Industry Technology Days By visiting and purchasing products and services You can meet with companies exhibiting their services and follow the sessions.\n",
      "​\n",
      "Visiting our event and following the sessions IT'S FREE .\n",
      "​\n",
      "In order for us to serve you better, you need to pre-register. Tech. Innovation Conference 2035 I'm an event description. Click here to open up the Event Editor and change my text. I'm a great place for you to say a little more about your upcoming event. Time & Location 01 Aug 2035, 10:00 – 18:00 Conference Center, 500 Terry Francois St. San Francisco, CA 94158 Tickets Ticket type early bird Price US$100.00 +US$2.50 service fee +US$2.50 service fee Sale ended Total US$0.00 Checkout Share This Event KVKK Information Text Free Visitor Registration DAYK Mühendislik, Derrick Corporation, Öksüt Madencilik, Centerra Gold, Argetest, Esri Türkiye, Hexagon, Hexagon Mining, Kuvars AŞ, CH Consultants, Arcasoy Danışmanlık, Dares, GOA Mining, Tümad, Tüprag, AGÜB, AMT, ÇAMAD, KÖMÜRDER, KROMDER, MJD, TÜMMER, TMD, TOBB, WIM TÜRKİYE, YMGV, YTKDER, Barkom, Bureau Veritas, Acme Analitics Lab, FKK, Innomotics, Jeoges, Kayen, Matrix GEO,  Minova Innovation, Mitto, MPES, Pacpro, Pulse, Troya Proses, Vector BTC, Madencilik Türkiye Dergisi, YSK Group, Micromine, Seequent\n",
      "THIS FAIR IS HELD UNDER THE SUPERVISION OF TOBB (UNION OF CHAMBERS AND EXCHANGES OF TURKEY) IN ACCORDANCE WITH LAW NUMBER 5174. bottom of page\n",
      "\u001b[00m\n",
      "\n",
      "\n",
      "\u001b[1m\u001b[95m# Agent:\u001b[00m \u001b[1m\u001b[92mVenue Coordinator\u001b[00m\n",
      "\u001b[95m## Final Answer:\u001b[00m \u001b[92m\n",
      "{\n",
      "  \"name\": \"Conference Center\",\n",
      "  \"address\": \"500 Terry Francois St. San Francisco, CA 94158\",\n",
      "  \"capacity\": \"Not specified\",\n",
      "  \"booking_status\": \"Tickets already on sale\"\n",
      "}\u001b[00m\n",
      "\n",
      "\n",
      "\u001b[1m\u001b[95m ## Final Result:\u001b[00m \u001b[92m{\n",
      "  \"name\": \"Conference Center\",\n",
      "  \"address\": \"500 Terry Francois St. San Francisco, CA 94158\",\n",
      "  \"capacity\": \"Not specified\",\n",
      "  \"booking_status\": \"Tickets already on sale\"\n",
      "}\u001b[00m\n",
      "\u001b[1m\u001b[93m \n",
      "\n",
      "=====\n",
      "## Please provide feedback on the Final Result and the Agent's actions. Respond with 'looks good' or a similar phrase when you're satisfied.\n",
      "=====\n",
      "\u001b[00m\n",
      "\u001b[1m\u001b[95m# Agent:\u001b[00m \u001b[1m\u001b[92mLogistics Manager\u001b[00m\n",
      "\u001b[95m## Task:\u001b[00m \u001b[92mCoordinate catering and equipment for an event with 500 participants on 2024-09-15.\u001b[00m\n",
      "\n",
      "\n",
      "\u001b[1m\u001b[95m# Agent:\u001b[00m \u001b[1m\u001b[92mLogistics Manager\u001b[00m\n",
      "\u001b[95m## Thought:\u001b[00m \u001b[92mI need to gather information on catering options and equipment setup for an event with 500 participants on September 15, 2024. I should search for catering companies and equipment rental services to ensure everything is organized and confirmed for the event.\u001b[00m\n",
      "\u001b[95m## Using tool:\u001b[00m \u001b[92mSearch the internet with Serper\u001b[00m\n",
      "\u001b[95m## Tool Input:\u001b[00m \u001b[92m\n",
      "\"{\\\"search_query\\\": \\\"catering services for events on September 15, 2024\\\"}\"\u001b[00m\n",
      "\u001b[95m## Tool Output:\u001b[00m \u001b[92m\n",
      "{'searchParameters': {'q': 'catering services for events on September 15, 2024', 'type': 'search', 'num': 10, 'engine': 'google'}, 'organic': [{'title': \"Wichita's #1 Catering Service | Weddings, Holidays & Events\", 'link': 'https://olivetreewichita.com/', 'snippet': 'The highest standard of detailed care for any catering service you may require for your special event in and around Wichita, KS since 1979.', 'position': 1, 'sitelinks': [{'title': 'Check Out Our Menu & View...', 'link': 'https://olivetreewichita.com/catering/'}, {'title': \"Wichita's Wedding Catering...\", 'link': 'https://olivetreewichita.com/weddings/'}, {'title': 'Special Events', 'link': 'https://olivetreewichita.com/events/'}]}, {'title': \"Watt's Cooking & Catering - Facebook\", 'link': 'https://www.facebook.com/wattscookingforyou/', 'snippet': '‼️Help needed for the Kansas State Fair in Hutchinson,KS‼️ We are seeking 3 people to help us work our food concessions from September 6th-September 15th.', 'position': 2}, {'title': 'Wichita, Kansas Catering Services - Main Event Catering', 'link': 'https://www.maineventcatering.com/wichita', 'snippet': 'We offer everything from a full-service catering experience including servers and waitstaff, set up and tear down, to drop and go catering.', 'position': 3}, {'title': 'Party Food Catering - Tasty Table Catering', 'link': 'https://tastytablecatering.com/tag/party-food-catering/', 'snippet': \"Discover hassle-free Birthday Catering options to make your celebration unforgettable. From custom menus to party food delivery, we've got your special day ...\", 'position': 4}, {'title': 'Quality Catering on Corporate Events - Tasty Table Catering', 'link': 'https://tastytablecatering.com/2024/04/26/quality-catering-on-corporate-events/', 'snippet': \"Tasty Table Catering's Food Service Program (September 15, 2023) · Planning Your Perfect Wedding Reception (September 15, 2023) · Tasty Table ...\", 'position': 5}, {'title': 'event and catering services - Instagram', 'link': 'https://www.instagram.com/nationalcaterers/p/DAuozh1hghv/', 'snippet': 'Celebrate in Style! 🍽️ Transform your next event into a masterpiece with our top-notch catering and seamless event management.', 'position': 6}, {'title': \"Make it a Pizza Party | Knolla's Pizza Catering in Wichita, KS\", 'link': 'https://knollaspizza.com/catering/', 'snippet': \"Want to make your next event a hit? It's easy! Just serve fresh, hot, hand-tossed pizzas, bread stix, salads and dessert pizzas, all made to order by your ...\", 'position': 7}, {'title': 'Tangerine Food Co | Des Moines Event Catering (@tangerinefoodco)', 'link': 'https://www.instagram.com/tangerinefoodco/?hl=en', 'snippet': 'Full service custom catering Des Moines and surrounding areas. 900 Keosauqua Way, Des Moines, Iowa 50309.', 'position': 8}, {'title': 'September | 2024 | Food for Thought Catering', 'link': 'https://www.fftcaters.com/blog/2024/09/', 'snippet': \"Professional catering services now offer customized solutions that reflect the event's theme and the guests' preferences. This shift towards ...\", 'position': 9}, {'title': 'Paramount Events | Chicago Catering Company', 'link': 'https://paramounteventschicago.com/', 'snippet': \"Paramount Events is Chicago's premier catering company for weddings, events and more. Contact our team of event experts to plan your custom menu today.\", 'position': 10, 'sitelinks': [{'title': 'About Us', 'link': 'https://paramounteventschicago.com/the-experience/about-us/'}, {'title': 'Drop Off', 'link': 'https://paramounteventschicago.com/what-we-do/drop-off/'}, {'title': 'Chicago Wedding Caterers', 'link': 'https://paramounteventschicago.com/what-we-do/weddings/'}, {'title': 'Contact Us Today', 'link': 'https://paramounteventschicago.com/contact/'}]}], 'peopleAlsoAsk': [{'question': 'How much do most caterers charge per person?', 'snippet': 'Type of Catering\\nAvg. Price Per Person\\nTraditional\\n$70 - $85\\nFood Trucks\\n$15 - $40\\nPrivate Chef\\n$50 - $150\\nBar Service\\n$25 - $60', 'title': 'The Complete Pricing Guide to Catering Costs in 2024', 'link': 'https://ftala.org/the-complete-pricing-guide-to-catering-costs'}, {'question': 'How to get booked for catering events?', 'snippet': \"6 WAYS TO INCREASE CATERING BOOKINGS:\\n1\\nExhibiting at Wedding Shows and Expos. ...\\n2\\nUse your catering network! ...\\n3\\nDon't shy away from price conversation! ...\\n4\\nCreate partnerships With Venues! ...\\n5\\nProbably the most obvious and underutilized is Social Media. ...\\n6\\nYou do you!\", 'title': '6 Ways To Get More Catering Bookings Today! | Total Party Planner', 'link': 'https://totalpartyplanner.com/6-ways-to-get-more-catering-bookings-today/'}, {'question': 'What are the four types of catering?', 'snippet': '4 DIFFERENT TYPES OF CATERING SERVICES\\nCorporate Catering. Catering for business and corporate events is referred to as corporate catering. ...\\nWedding Catering. ...\\nSocial Event Catering. ...\\nConcession Catering.', 'title': '4 Different Types of Catering Services | Candlelight Inn Restaurant', 'link': 'https://candlelightinnrestaurant.com/blogs/four-different-types-of-catering-services'}, {'question': 'How do you plan a catering event?', 'snippet': \"PLANNING A CATERED EVENT\\n1\\n10 Tips on How To Plan a Successful Catered Event. ...\\n2\\nWho is on your Guest List. ...\\n3\\nUnderstand Your Guests' Cuisine Choices. ...\\n4\\nOffer Several Alternative Menus. ...\\n5\\nConsider Special Dietary Needs. ...\\n6\\nGo Fresh, Go Local. ...\\n7\\nUp the Ante with Ethnic Foods that Fit Your Theme. ...\\n8\\nPlan a Service Style that Fits the Event Timing.\", 'title': 'PLANNING A CATERED EVENT - The French Gourmet - San Diego, CA', 'link': 'https://thefrenchgourmet.com/10-tips-on-how-to-plan-a-successful-catered-event/'}], 'relatedSearches': [{'query': 'Small catering services for events on september 15 2024'}, {'query': 'Catering services for events on september 15 2024 near me'}, {'query': 'Cheap catering services for events on september 15 2024'}, {'query': 'Best catering services for events on september 15 2024'}, {'query': 'Lunch catering Wichita, ks'}, {'query': 'Cheap catering Wichita, KS'}, {'query': 'small catering wichita, ks'}, {'query': 'Wedding catering Wichita, KS'}], 'credits': 1}\u001b[00m\n",
      "\n",
      "\n",
      "\u001b[1m\u001b[95m# Agent:\u001b[00m \u001b[1m\u001b[92mLogistics Manager\u001b[00m\n",
      "\u001b[95m## Thought:\u001b[00m \u001b[92mAction: Read website content\u001b[00m\n",
      "\u001b[95m## Using tool:\u001b[00m \u001b[92mRead website content\u001b[00m\n",
      "\u001b[95m## Tool Input:\u001b[00m \u001b[92m\n",
      "\"{\\\"website_url\\\": \\\"https://www.maineventcatering.com/wichita\\\"}\"\u001b[00m\n",
      "\u001b[95m## Tool Output:\u001b[00m \u001b[92m\n",
      "\n",
      "Main Event Catering | Wichita, Kansas Catering Services\n",
      "top of page INQUIRIES\n",
      "LOCATIONS ANKENY BETTENDORF COLUMBIA CLEAR LAKE CORALVILLE COUNCIL BLUFFS DES MOINES DUBUQUE OMAHA WEST ROCK ISLAND WICHITA SERVICES VENUES CONTACT More Use tab to navigate through the menu items. Wichita, Kansas Catering Service: \n",
      "Deliciously Crafted for Every Occasion Our catering location serves Wichita, Kansas. Whatever size your event is, we will ensure you and your guests experience the most delicious cuisine to compliment your special day.  From casual to elegant, party trays, boxed lunches, appetizers, and more, at Main Event Catering - Wichita we work closely with our clients to fulfill their individual event needs. GET IN TOUCH\n",
      "Catering We offer everything from a full-service catering experience including servers and waitstaff, set up and tear down, to drop and go catering. In any circumstance, we've got you covered.  BOOK NOW\n",
      "Venues We work with multiple venues in the area and are willing to travel. Contact us if you need help choosing a venue, and to see if your venue is located within our service area. CONTACT US\n",
      "Our Menu With a large variety of menu options, including gluten-free and vegan options, you won't be disappointed. We have food options for plated entrees, buffets, BBQs, Picnics, hors d'oeuvres, and more. Serving breakfast, lunch, snack breaks, and dinner.  REQUEST A MENU\n",
      "Hospitality Food is just the beginning. You also need to choose the right team for your event. From extravagant to elegant or minimalist let Main Event Catering help make your event memorable.  HOST MY EVENT\n",
      "MAIN EVENT CATERING - WICHITA\n",
      "549 S Rock Rd | Wichita, KS 67207\n",
      "316 - 686-7131 Go to Maps\n",
      "Go to Maps\n",
      "QUICK LINKS\n",
      "OUR LOCATIONS\n",
      "OUR SERVICES\n",
      "CONTACT PLAN MY EVENT\n",
      "​© 2024  by Kinseth Hospitality Companies | Privacy Policy bottom of page\n",
      "\u001b[00m\n",
      "\n",
      "\n",
      "\u001b[1m\u001b[95m# Agent:\u001b[00m \u001b[1m\u001b[92mLogistics Manager\u001b[00m\n",
      "\u001b[95m## Final Answer:\u001b[00m \u001b[92m\n",
      "Main Event Catering | Wichita, Kansas Catering Services\n",
      "\n",
      "Deliciously Crafted for Every Occasion Our catering location serves Wichita, Kansas. Whatever size your event is, we will ensure you and your guests experience the most delicious cuisine to compliment your special day. From casual to elegant, party trays, boxed lunches, appetizers, and more, at Main Event Catering - Wichita we work closely with our clients to fulfill their individual event needs.\n",
      "\n",
      "Catering: We offer everything from a full-service catering experience including servers and waitstaff, set up and tear down, to drop and go catering. In any circumstance, we've got you covered.\n",
      "\n",
      "Venues: We work with multiple venues in the area and are willing to travel. Contact us if you need help choosing a venue, and to see if your venue is located within our service area.\n",
      "\n",
      "Our Menu: With a large variety of menu options, including gluten-free and vegan options, you won't be disappointed. We have food options for plated entrees, buffets, BBQs, Picnics, hors d'oeuvres, and more. Serving breakfast, lunch, snack breaks, and dinner.\n",
      "\n",
      "Hospitality: Food is just the beginning. You also need to choose the right team for your event. From extravagant to elegant or minimalist, let Main Event Catering help make your event memorable.\n",
      "\n",
      "Contact: \n",
      "Main Event Catering - Wichita\n",
      "549 S Rock Rd | Wichita, KS 67207\n",
      "Phone: 316-686-7131\n",
      "```\u001b[00m\n",
      "\n",
      "\n",
      "\u001b[1m\u001b[95m ## Final Result:\u001b[00m \u001b[92mMain Event Catering | Wichita, Kansas Catering Services\n",
      "\n",
      "Deliciously Crafted for Every Occasion Our catering location serves Wichita, Kansas. Whatever size your event is, we will ensure you and your guests experience the most delicious cuisine to compliment your special day. From casual to elegant, party trays, boxed lunches, appetizers, and more, at Main Event Catering - Wichita we work closely with our clients to fulfill their individual event needs.\n",
      "\n",
      "Catering: We offer everything from a full-service catering experience including servers and waitstaff, set up and tear down, to drop and go catering. In any circumstance, we've got you covered.\n",
      "\n",
      "Venues: We work with multiple venues in the area and are willing to travel. Contact us if you need help choosing a venue, and to see if your venue is located within our service area.\n",
      "\n",
      "Our Menu: With a large variety of menu options, including gluten-free and vegan options, you won't be disappointed. We have food options for plated entrees, buffets, BBQs, Picnics, hors d'oeuvres, and more. Serving breakfast, lunch, snack breaks, and dinner.\n",
      "\n",
      "Hospitality: Food is just the beginning. You also need to choose the right team for your event. From extravagant to elegant or minimalist, let Main Event Catering help make your event memorable.\n",
      "\n",
      "Contact: \n",
      "Main Event Catering - Wichita\n",
      "549 S Rock Rd | Wichita, KS 67207\n",
      "Phone: 316-686-7131\n",
      "```\u001b[00m\n",
      "\u001b[1m\u001b[93m \n",
      "\n",
      "=====\n",
      "## Please provide feedback on the Final Result and the Agent's actions. Respond with 'looks good' or a similar phrase when you're satisfied.\n",
      "=====\n",
      "\u001b[00m\n",
      "\u001b[1m\u001b[95m# Agent:\u001b[00m \u001b[1m\u001b[92mMarketing and Communications Agent\u001b[00m\n",
      "\u001b[95m## Task:\u001b[00m \u001b[92mPromote the Tech Innovation Conference aiming to engage at least500 potential attendees.\u001b[00m\n",
      "\n",
      "\n",
      "\u001b[1m\u001b[95m# Agent:\u001b[00m \u001b[1m\u001b[92mMarketing and Communications Agent\u001b[00m\n",
      "\u001b[95m## Thought:\u001b[00m \u001b[92mI need to find ways to effectively market the Tech Innovation Conference and engage with potential attendees to meet the goal of at least 500 participants. I should utilize online tools to reach a wider audience and encourage participation.\u001b[00m\n",
      "\u001b[95m## Using tool:\u001b[00m \u001b[92mAction: Search the internet with Serper\u001b[00m\n",
      "\u001b[95m## Tool Input:\u001b[00m \u001b[92m\n",
      "\"{\\\"search_query\\\": \\\"Tech Innovation Conference Wichita\\\"}\"\u001b[00m\n",
      "\u001b[95m## Tool Output:\u001b[00m \u001b[92m\n",
      "{'searchParameters': {'q': 'Tech Innovation Conference Wichita', 'type': 'search', 'num': 10, 'engine': 'google'}, 'organic': [{'title': 'Ad Astra Technology Summit: Home', 'link': 'https://adastrasummit.tech/', 'snippet': 'Event Location Hyatt Regency, Wichita Kansas. Hyatt. 8 a.m. – 4:30 p.m.. The summit will include industry panels, apprenticeship programs, and ...', 'position': 1}, {'title': 'IEEE GreenTech Conference | March 26 - 28, 2025 | Wichita, Kansas', 'link': 'https://ieeegreentech.org/', 'snippet': 'The conference offers an excellent opportunity for presenting technical papers to a gathering of international experts in green technologies.', 'position': 2}, {'title': 'ATLAS Composites and Innovation Summit (ACIS)', 'link': 'https://www.wichita.edu/industry_and_defense/NIAR/Workshops/2024-ACIS.php', 'snippet': 'OCTOBER 1-3 WICHITA, KS, USA. Immerse yourself in the industry-leading manufacturing technologies that will revolutionize how you design and build your products ...', 'position': 3}, {'title': 'Top 10 Must-Attend Tech Meetups and Conferences in Wichita', 'link': 'https://www.nucamp.co/blog/coding-bootcamp-wichita-ks-top-10-mustattend-tech-meetups-and-conferences-in-wichita', 'snippet': 'Discover the top 10 essential tech meetups and conferences in Wichita, Kansas for networking and career growth. Perfect for beginners!', 'position': 4}, {'title': 'Summer 2024 - Encountering Innovation', 'link': 'https://www.encounteringinnovation.com/ei-conference-2024', 'snippet': 'A premier tech transfer event, where groundbreaking ideas meet real-world applications. As one of the top US pitch events for innovators and inventors.', 'position': 5}, {'title': 'Technology conference events in Wichita, KS - Eventbrite', 'link': 'https://www.eventbrite.com/d/ks--wichita/technology-conference/', 'snippet': 'Big Data Overview 1 Day Training in Wichita, KS. Tue, Feb 18 • 9:00 AM + 10 more. For venue details reach us at info@mangates.com. From $595.00. Mangates.', 'position': 6}, {'title': 'ATLAS Composites and Innovation Summit (ACIS) Conference Venue', 'link': 'https://www.wichita.edu/industry_and_defense/NIAR/Workshops/2024-ACIS-venue.php', 'snippet': '1845 Fairmount St. Wichita, Kansas 67260. USA. (316) 978-3456. Request InfoVisitApply.', 'position': 7}, {'title': '2024 KBA Technology Conference - Kansas Bankers Association', 'link': 'https://ksbankers.com/2024-kba-technology-conference/', 'snippet': '2024 KBA Bank Technology and operations Conference, February 12-13, Hyatt Regency Wichita. Brochure, Register Myself, Group Registration, Hotel Reservations.', 'position': 8}, {'title': 'Bill Nye headlines the Ad Astra Technology Summit in 2024', 'link': 'https://adastrasummit.tech/2024/06/bill-nye-headlines-the-ad-astra-technology-summit-in-2024/', 'snippet': 'Now in its third year, the single-day event will be on October 2, 2024, at the Hyatt in Wichita. ... innovation, and the growth of the Kansas Tech ...', 'position': 9}, {'title': 'Science & Tech Events in Wichita, KS - Explore New Innovations', 'link': 'https://www.eventbrite.com/b/ks--wichita/science-and-tech/', 'snippet': \"Looking for science & tech events in Wichita? Whether you're a local, new in town, or just passing through, you'll be sure to find something on Eventbrite ...\", 'position': 10}], 'relatedSearches': [{'query': 'Green tech conference 2024'}, {'query': 'Ad Astra Conference 2024'}, {'query': 'IEEE green Technologies Conference 2024'}, {'query': 'Ad astra conference 2024 Wichita KS'}, {'query': 'IEEE Green Technologies Conference 2025'}, {'query': 'Ad Astra technology Summit'}, {'query': 'Ad Astra Conference 2025'}, {'query': 'GreenTech conference'}], 'credits': 1}\u001b[00m\n",
      "\n",
      "\n",
      "\u001b[1m\u001b[95m# Agent:\u001b[00m \u001b[1m\u001b[92mMarketing and Communications Agent\u001b[00m\n",
      "\u001b[95m## Thought:\u001b[00m \u001b[92mThought: I need to gather more information about the Tech Innovation Conference in Wichita to effectively promote the event and engage potential attendees.\u001b[00m\n",
      "\u001b[95m## Using tool:\u001b[00m \u001b[92mRead website content\u001b[00m\n",
      "\u001b[95m## Tool Input:\u001b[00m \u001b[92m\n",
      "\"{\\\"website_url\\\": \\\"https://adastrasummit.tech/\\\"}\"\u001b[00m\n",
      "\u001b[95m## Tool Output:\u001b[00m \u001b[92m\n",
      "\n",
      "Home | Ad Astra Technology Summit\n",
      "Last Chance! Teacher Scholarships Close 9/30.\n",
      "Home\n",
      "About Schedule & Sessions\n",
      "About FlagshipKansas.Tech\n",
      "Awards\n",
      "Newsroom\n",
      "Contact\n",
      "Get Tickets General Admission\n",
      "Teacher Tickets\n",
      "AD ASTRA\n",
      "TECHNOLOGY\n",
      "SUMMIT 24\n",
      "October 2, 2024\n",
      "Scroll for more\n",
      "Propel Kansas' tech sector forward When & Where\n",
      "With stakeholders from industry, education, workforce development, startups, and government, this summit is the crucible for groundbreaking collaborations.\n",
      "Be there.\n",
      "When\n",
      "Wednesday, October 2, 2024\n",
      "8 a.m. – 4:30 p.m.\n",
      "View Schedule/Sessions\n",
      "Where\n",
      "Hyatt Regency Wichita\n",
      "400 West Waterman, Wichita, KS\n",
      "Click for Parking Map\n",
      "Book a Room\n",
      "Be Inspired\n",
      "Play Video\n",
      "Schedule\n",
      "Check-In\n",
      "8am – 8:50am\n",
      "Learn More\n",
      "Opening Sessions w/ Bill Nye\n",
      "9:00am – 10:45am\n",
      "Learn More\n",
      "Lunch & Data Walk\n",
      "11:45am – 1:30pm\n",
      "Learn More\n",
      "Industry, Workforce, Startup, and Education Sessions\n",
      "11:00am – 4:30pm\n",
      "See all the Sessions\n",
      "2024 Tech Awards\n",
      "Celebrate tech innovation in Kansas with awards in various categories like Tech Educator, Tech Startup, and Visionary of the Year. Nominations are open until September 5!\n",
      "Nominate\n",
      "Ad Astra Technology Summit Sponsors\n",
      "Ad Astra Technology Summit Who Should Go\n",
      "Industry Professionals\n",
      "Educators\n",
      "Entrepreneurs\n",
      "Government Officials\n",
      "Tech Enthusiasts\n",
      "Students\n",
      "Event Location Hyatt Regency, Wichita Kansas\n",
      "8 a.m. – 4:30 p.m.\n",
      "The summit will include industry panels, apprenticeship programs, and a special focus on digital skills development, which are critical for today’s digital workforce. Teachers will also be eligible for one full graduate credit hour issued through WSU.\n",
      "Copyright © 2025 Ad Astra Technology, All rights reserved. Website Sponsored by Cassandra Bryan Design\n",
      "Privacy Policy\n",
      "Contact\n",
      "News\n",
      "\u001b[00m\n",
      "\n",
      "\n",
      "\u001b[1m\u001b[95m# Agent:\u001b[00m \u001b[1m\u001b[92mMarketing and Communications Agent\u001b[00m\n",
      "\u001b[95m## Final Answer:\u001b[00m \u001b[92m\n",
      "# Tech Innovation Conference Promotion Report\n",
      "\n",
      "## Marketing Activities:\n",
      "\n",
      "1. Utilized online search tools to identify relevant tech conferences in Wichita.\n",
      "2. Researched the Ad Astra Technology Summit as the Tech Innovation Conference on October 2, 2024.\n",
      "3. Identified key event details such as the location at Hyatt Regency Wichita and the focus on industry panels and digital skills development.\n",
      "4. Recognized the opportunity for teachers to earn graduate credit through WSU.\n",
      "\n",
      "## Attendee Engagement:\n",
      "\n",
      "1. Plan to leverage the information gathered for targeted promotion to attract at least 500 potential attendees.\n",
      "2. Will emphasize the benefits of attending the Ad Astra Technology Summit, such as industry insights and professional development opportunities.\n",
      "3. Intend to reach out to educators, industry professionals, entrepreneurs, and tech enthusiasts to promote the event effectively.\n",
      "4. Aim to create engaging marketing materials highlighting the event's value proposition and unique offerings.\n",
      "\n",
      "By strategically leveraging this information, the Tech Innovation Conference aims to drive attendance and create a memorable and insightful experience for all participants.\u001b[00m\n",
      "\n",
      "\n"
     ]
    }
   ],
   "source": [
    "result = event_management_crew.kickoff(inputs=event_details)"
   ]
  },
  {
   "cell_type": "code",
   "execution_count": 22,
   "metadata": {},
   "outputs": [
    {
     "name": "stdout",
     "output_type": "stream",
     "text": [
      "{'address': '500 Terry Francois St. San Francisco, CA 94158',\n",
      " 'booking_status': 'Tickets already on sale',\n",
      " 'capacity': 0,\n",
      " 'name': 'Conference Center'}\n"
     ]
    }
   ],
   "source": [
    "import json\n",
    "from pprint import pprint\n",
    "\n",
    "with open('venue_details.json') as f:\n",
    "   data = json.load(f)\n",
    "\n",
    "pprint(data)"
   ]
  },
  {
   "cell_type": "code",
   "execution_count": 23,
   "metadata": {},
   "outputs": [
    {
     "data": {
      "text/markdown": [
       "# Tech Innovation Conference Promotion Report\n",
       "\n",
       "## Marketing Activities:\n",
       "\n",
       "1. Utilized online search tools to identify relevant tech conferences in Wichita.\n",
       "2. Researched the Ad Astra Technology Summit as the Tech Innovation Conference on October 2, 2024.\n",
       "3. Identified key event details such as the location at Hyatt Regency Wichita and the focus on industry panels and digital skills development.\n",
       "4. Recognized the opportunity for teachers to earn graduate credit through WSU.\n",
       "\n",
       "## Attendee Engagement:\n",
       "\n",
       "1. Plan to leverage the information gathered for targeted promotion to attract at least 500 potential attendees.\n",
       "2. Will emphasize the benefits of attending the Ad Astra Technology Summit, such as industry insights and professional development opportunities.\n",
       "3. Intend to reach out to educators, industry professionals, entrepreneurs, and tech enthusiasts to promote the event effectively.\n",
       "4. Aim to create engaging marketing materials highlighting the event's value proposition and unique offerings.\n",
       "\n",
       "By strategically leveraging this information, the Tech Innovation Conference aims to drive attendance and create a memorable and insightful experience for all participants."
      ],
      "text/plain": [
       "<IPython.core.display.Markdown object>"
      ]
     },
     "execution_count": 23,
     "metadata": {},
     "output_type": "execute_result"
    }
   ],
   "source": [
    "from IPython.display import Markdown\n",
    "Markdown(\"marketing_report.md\")"
   ]
  },
  {
   "cell_type": "code",
   "execution_count": null,
   "metadata": {},
   "outputs": [],
   "source": []
  }
 ],
 "metadata": {
  "kernelspec": {
   "display_name": "Python 3",
   "language": "python",
   "name": "python3"
  },
  "language_info": {
   "codemirror_mode": {
    "name": "ipython",
    "version": 3
   },
   "file_extension": ".py",
   "mimetype": "text/x-python",
   "name": "python",
   "nbconvert_exporter": "python",
   "pygments_lexer": "ipython3",
   "version": "3.12.3"
  }
 },
 "nbformat": 4,
 "nbformat_minor": 2
}
